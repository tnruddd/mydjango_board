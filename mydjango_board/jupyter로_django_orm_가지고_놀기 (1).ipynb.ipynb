{
 "cells": [
  {
   "cell_type": "markdown",
   "id": "7a557d33",
   "metadata": {
    "id": "7a557d33"
   },
   "source": [
    "# django 불러오기"
   ]
  },
  {
   "cell_type": "code",
   "execution_count": 7,
   "id": "159125a1",
   "metadata": {
    "id": "159125a1"
   },
   "outputs": [],
   "source": [
    "import os, sys\n",
    "PWD = os.path.abspath('.')\n",
    "\n",
    "PROJ_MISSING_MSG = \"\"\"Set an enviroment variable:\\n\n",
    "`DJANGO_PROJECT=your_project_name`\\n\n",
    "or call:\\n\n",
    "`init_django(your_project_name)`\n",
    "\"\"\"\n",
    "\n",
    "def init_django(project_name=None):\n",
    "    os.chdir(PWD)\n",
    "    project_name = project_name or os.environ.get('DJANGO_PROJECT') or None\n",
    "    if project_name == None:\n",
    "        raise Exception(PROJ_MISSING_MSG)\n",
    "    sys.path.insert(0, os.getenv('PWD'))\n",
    "    os.environ.setdefault('DJANGO_SETTINGS_MODULE', f'{project_name}.settings')\n",
    "    os.environ[\"DJANGO_ALLOW_ASYNC_UNSAFE\"] = \"true\"\n",
    "    import django\n",
    "    django.setup()"
   ]
  },
  {
   "cell_type": "code",
   "execution_count": 8,
   "id": "aa05325a",
   "metadata": {},
   "outputs": [
    {
     "data": {
      "text/plain": [
       "'C:\\\\Users\\\\Samsung\\\\django_project\\\\mydjango_board'"
      ]
     },
     "execution_count": 8,
     "metadata": {},
     "output_type": "execute_result"
    }
   ],
   "source": [
    "PWD"
   ]
  },
  {
   "cell_type": "code",
   "execution_count": 9,
   "id": "c3667237",
   "metadata": {
    "id": "c3667237",
    "pycharm": {
     "name": ""
    }
   },
   "outputs": [],
   "source": [
    "init_django('mydjango_board')"
   ]
  },
  {
   "cell_type": "markdown",
   "id": "62da1dd1",
   "metadata": {
    "id": "62da1dd1"
   },
   "source": [
    "# model import"
   ]
  },
  {
   "cell_type": "code",
   "execution_count": 10,
   "id": "6d50fb38",
   "metadata": {
    "id": "6d50fb38"
   },
   "outputs": [],
   "source": [
    "from board.models import Board, Comment"
   ]
  },
  {
   "cell_type": "markdown",
   "id": "53ccf411",
   "metadata": {
    "id": "53ccf411"
   },
   "source": [
    "# Insert or Update"
   ]
  },
  {
   "cell_type": "code",
   "execution_count": 11,
   "id": "b7db172c",
   "metadata": {
    "id": "b7db172c"
   },
   "outputs": [],
   "source": [
    "board = Board(\n",
    "    title=\"text\",\n",
    "    content=\"content1\",\n",
    ")"
   ]
  },
  {
   "cell_type": "code",
   "execution_count": 12,
   "id": "82c4644a",
   "metadata": {
    "id": "82c4644a"
   },
   "outputs": [],
   "source": [
    "board.save()"
   ]
  },
  {
   "cell_type": "code",
   "execution_count": 13,
   "id": "e05bfcd7",
   "metadata": {
    "id": "e05bfcd7"
   },
   "outputs": [
    {
     "data": {
      "text/plain": [
       "<Board: Board object (1)>"
      ]
     },
     "execution_count": 13,
     "metadata": {},
     "output_type": "execute_result"
    }
   ],
   "source": [
    "board"
   ]
  },
  {
   "cell_type": "markdown",
   "id": "52b76258",
   "metadata": {
    "id": "52b76258"
   },
   "source": [
    "-> 내용 확인"
   ]
  },
  {
   "cell_type": "code",
   "execution_count": 14,
   "id": "7b9833ba",
   "metadata": {
    "id": "7b9833ba"
   },
   "outputs": [],
   "source": [
    "board = Board.objects.create(\n",
    "    title=\"게시글2\",\n",
    "    content=\"내용2\"\n",
    ")"
   ]
  },
  {
   "cell_type": "code",
   "execution_count": null,
   "id": "13912437",
   "metadata": {
    "id": "13912437"
   },
   "outputs": [],
   "source": []
  },
  {
   "cell_type": "code",
   "execution_count": 15,
   "id": "9cced940",
   "metadata": {
    "id": "9cced940"
   },
   "outputs": [
    {
     "data": {
      "text/plain": [
       "<Board: Board object (2)>"
      ]
     },
     "execution_count": 15,
     "metadata": {},
     "output_type": "execute_result"
    }
   ],
   "source": [
    "board"
   ]
  },
  {
   "cell_type": "code",
   "execution_count": 16,
   "id": "d424e3de",
   "metadata": {
    "id": "d424e3de"
   },
   "outputs": [],
   "source": [
    "board = Board.objects.create(\n",
    "    title=\"게시글3\",\n",
    "    content=\"내용3\"\n",
    ")"
   ]
  },
  {
   "cell_type": "code",
   "execution_count": null,
   "id": "570df29f",
   "metadata": {
    "id": "570df29f"
   },
   "outputs": [],
   "source": [
    "board"
   ]
  },
  {
   "cell_type": "markdown",
   "id": "19207d0a",
   "metadata": {
    "id": "19207d0a"
   },
   "source": [
    "# 조회하기"
   ]
  },
  {
   "cell_type": "markdown",
   "id": "15381498",
   "metadata": {
    "id": "15381498"
   },
   "source": [
    "## raw query로 조회하기"
   ]
  },
  {
   "cell_type": "code",
   "execution_count": null,
   "id": "e2e0f017",
   "metadata": {
    "id": "e2e0f017"
   },
   "outputs": [],
   "source": [
    "result = Board.objects.raw('SELECT * FROM board_board')\n",
    "result"
   ]
  },
  {
   "cell_type": "markdown",
   "id": "b8d0e2f9",
   "metadata": {
    "id": "b8d0e2f9"
   },
   "source": [
    "## orm으로 조회하기"
   ]
  },
  {
   "cell_type": "markdown",
   "id": "e38fe1dd",
   "metadata": {
    "id": "e38fe1dd"
   },
   "source": [
    "### 전체 조회하기"
   ]
  },
  {
   "cell_type": "code",
   "execution_count": null,
   "id": "86e77f0d",
   "metadata": {
    "id": "86e77f0d",
    "scrolled": true
   },
   "outputs": [],
   "source": [
    "board_list = Board.objects.all()\n",
    "board_list"
   ]
  },
  {
   "cell_type": "markdown",
   "id": "5d879cfc",
   "metadata": {
    "id": "5d879cfc"
   },
   "source": [
    "### filter 걸어서 조회하기(where)"
   ]
  },
  {
   "cell_type": "code",
   "execution_count": null,
   "id": "88ac0db0",
   "metadata": {
    "id": "88ac0db0"
   },
   "outputs": [],
   "source": [
    "board_list = Board.objects.filter(title=\"게시글\")\n",
    "board_list"
   ]
  },
  {
   "cell_type": "code",
   "execution_count": null,
   "id": "f031d9ab",
   "metadata": {
    "id": "f031d9ab"
   },
   "outputs": [],
   "source": [
    "board_list = Board.objects.order_by('-created_at') # order by desc\n",
    "board_list"
   ]
  },
  {
   "cell_type": "code",
   "execution_count": null,
   "id": "997ea2fd",
   "metadata": {
    "id": "997ea2fd"
   },
   "outputs": [],
   "source": [
    "board_list = Board.objects.order_by('-created_at')[2:4] # order by desc limit(2) offset(2)\n",
    "board_list"
   ]
  },
  {
   "cell_type": "markdown",
   "id": "2aaf0c49",
   "metadata": {
    "id": "2aaf0c49"
   },
   "source": [
    "###  filter not 표시"
   ]
  },
  {
   "cell_type": "code",
   "execution_count": null,
   "id": "ceab9a70",
   "metadata": {
    "id": "ceab9a70"
   },
   "outputs": [],
   "source": [
    "board_list = Board.objects.exclude(title=\"게시글\")\n",
    "board_list"
   ]
  },
  {
   "cell_type": "code",
   "execution_count": null,
   "id": "d6102710",
   "metadata": {
    "id": "d6102710"
   },
   "outputs": [],
   "source": [
    "from django.db.models import Q"
   ]
  },
  {
   "cell_type": "code",
   "execution_count": null,
   "id": "70d097ae",
   "metadata": {
    "id": "70d097ae"
   },
   "outputs": [],
   "source": [
    "board_list = Board.objects.filter(~Q(title=\"게시글\"))\n",
    "board_list"
   ]
  },
  {
   "cell_type": "markdown",
   "id": "c2b745b5",
   "metadata": {
    "id": "c2b745b5"
   },
   "source": [
    "## 조회하기 고급"
   ]
  },
  {
   "cell_type": "markdown",
   "id": "390b48f4",
   "metadata": {
    "id": "390b48f4"
   },
   "source": [
    "### 다양한 조건"
   ]
  },
  {
   "cell_type": "markdown",
   "id": "59333dc2",
   "metadata": {
    "id": "59333dc2"
   },
   "source": [
    "#### or"
   ]
  },
  {
   "cell_type": "code",
   "execution_count": null,
   "id": "a5a181b9",
   "metadata": {
    "id": "a5a181b9"
   },
   "outputs": [],
   "source": [
    "board_list = Board.objects.filter(Q(title=\"게시글1\") | Q(title=\"게시글2\"))\n",
    "board_list"
   ]
  },
  {
   "cell_type": "markdown",
   "id": "07a52501",
   "metadata": {
    "id": "07a52501"
   },
   "source": [
    "##### and 와 연산자"
   ]
  },
  {
   "cell_type": "markdown",
   "id": "5de20c7a",
   "metadata": {
    "id": "5de20c7a"
   },
   "source": [
    "- gte: greater than equal\n",
    "- lte: less than equal\n",
    "- lt: less than\n",
    "- gt: greater than"
   ]
  },
  {
   "cell_type": "code",
   "execution_count": null,
   "id": "0537f462",
   "metadata": {
    "id": "0537f462"
   },
   "outputs": [],
   "source": [
    "board_list = Board.objects.filter(Q(title__endswith=\"글1\") & Q(id__gte=3))\n",
    "board_list"
   ]
  },
  {
   "cell_type": "code",
   "execution_count": null,
   "id": "fe265f65",
   "metadata": {
    "id": "fe265f65"
   },
   "outputs": [],
   "source": [
    "board_list = Board.objects.filter(Q(title__startswith=\"게시\") & Q(created_at__year=2022))\n",
    "board_list"
   ]
  },
  {
   "cell_type": "markdown",
   "id": "e9e7c8fc",
   "metadata": {
    "id": "e9e7c8fc"
   },
   "source": [
    "# 관계 추가하기"
   ]
  },
  {
   "cell_type": "markdown",
   "id": "3eeec0dc",
   "metadata": {
    "id": "3eeec0dc"
   },
   "source": [
    "1번 댓글에 댓글을 3가지 이상 입력하세요"
   ]
  },
  {
   "cell_type": "code",
   "execution_count": null,
   "id": "6bcd2fd7",
   "metadata": {
    "id": "6bcd2fd7"
   },
   "outputs": [],
   "source": [
    "comment = Comment(\n",
    "    board_id = 1,\n",
    "    content = \"댓글 내용2\"\n",
    ")\n",
    "comment.save()"
   ]
  },
  {
   "cell_type": "code",
   "execution_count": null,
   "id": "292ce14a",
   "metadata": {
    "id": "292ce14a"
   },
   "outputs": [],
   "source": [
    "board = Board.objects.get(id=1)\n",
    "comment = Comment.objects.create(\n",
    "    board=board,\n",
    "    content = \"댓글 내용3\"\n",
    ")"
   ]
  },
  {
   "cell_type": "markdown",
   "id": "f6b0c488",
   "metadata": {
    "id": "f6b0c488"
   },
   "source": [
    "## 관계 조회하기"
   ]
  },
  {
   "cell_type": "code",
   "execution_count": null,
   "id": "ee173070",
   "metadata": {
    "id": "ee173070"
   },
   "outputs": [],
   "source": [
    "Comment.objects.all()"
   ]
  },
  {
   "cell_type": "code",
   "execution_count": null,
   "id": "b9219e4e",
   "metadata": {
    "id": "b9219e4e"
   },
   "outputs": [],
   "source": [
    "board_list = Board.objects.filter(id__lte=5).prefetch_related('comment_set')\n",
    "board_list"
   ]
  },
  {
   "cell_type": "code",
   "execution_count": null,
   "id": "3b0dfbcc",
   "metadata": {
    "id": "3b0dfbcc"
   },
   "outputs": [],
   "source": [
    "comment_list = board_list[0].comment_set.all()\n",
    "comment_list"
   ]
  },
  {
   "cell_type": "code",
   "execution_count": null,
   "id": "8e0f5cff",
   "metadata": {
    "id": "8e0f5cff"
   },
   "outputs": [],
   "source": [
    "comment = comment_list[0]\n",
    "comment.board"
   ]
  }
 ],
 "metadata": {
  "colab": {
   "provenance": []
  },
  "kernelspec": {
   "display_name": "Python 3 (ipykernel)",
   "language": "python",
   "name": "python3"
  },
  "language_info": {
   "codemirror_mode": {
    "name": "ipython",
    "version": 3
   },
   "file_extension": ".py",
   "mimetype": "text/x-python",
   "name": "python",
   "nbconvert_exporter": "python",
   "pygments_lexer": "ipython3",
   "version": "3.8.15"
  }
 },
 "nbformat": 4,
 "nbformat_minor": 5
}
